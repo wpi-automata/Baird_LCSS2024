{
 "cells": [
  {
   "cell_type": "markdown",
   "metadata": {},
   "source": [
    "# I-STL For Dummies\n",
    "\n",
    "I'll change the title if we want to send this to Andrew too lol. \n",
    "- Add a brief description here"
   ]
  },
  {
   "cell_type": "markdown",
   "metadata": {},
   "source": [
    "# 1. Read in Data "
   ]
  },
  {
   "cell_type": "code",
   "execution_count": null,
   "metadata": {},
   "outputs": [],
   "source": [
    "import numpy as np\n",
    "import sympy as sp\n",
    "import time\n",
    "import interval\n",
    "import pickle \n",
    "from inclusion import NaturalInclusionFunction\n",
    "import matplotlib.animation as animation\n",
    "from scipy.io import loadmat\n",
    "from stlpy.STL import LinearPredicate, NonlinearPredicate\n",
    "from matplotlib import pyplot as plt\n",
    "from matplotlib import rc\n",
    "\n",
    "rc('text', usetex=True)\n",
    "\n",
    "# Part 1: Un-pickling and loading MITLL data \n",
    "with open('sim_data.pkl', 'rb') as f:\n",
    "    data = pickle.load(f)\n",
    "\n",
    "# Get all the GCS values for agent 1\n",
    "time = \n",
    "lat_1 = []\n",
    "lon_1 = []\n",
    "alt_1 = []\n",
    "\n",
    "# lat_2 = []\n",
    "# lon_2 = []\n",
    "# alt_2 = []\n",
    "\n",
    "# lat_3 = []\n",
    "# lon_3 = []\n",
    "# alt_3 = []\n",
    "\n",
    "\n",
    "# lat_4 = []\n",
    "# lon_4 = []\n",
    "# alt_4 = []\n",
    "\n",
    "for timestamp in data:\n",
    "    time.append(timestamp[0]) # double check this is doing what we think it is \n",
    "    lat_1.append(timestamp[1][1][\"lat\"])\n",
    "    lon_1.append(timestamp[1][1][\"lon\"])\n",
    "    alt_1.append(timestamp[1][1][\"alt\"])\n",
    "\n",
    "    # lat_2.append(timestamp[1][2][\"lat\"])\n",
    "    # lon_2.append(timestamp[1][2][\"lon\"])\n",
    "    # alt_2.append(timestamp[1][2][\"alt\"])\n",
    "\n",
    "    # lat_3.append(timestamp[1][3][\"lat\"])\n",
    "    # lon_3.append(timestamp[1][3][\"lon\"])\n",
    "    # alt_3.append(timestamp[1][3][\"alt\"])\n",
    "\n",
    "    # lat_4.append(timestamp[1][4][\"lat\"])\n",
    "    # lon_4.append(timestamp[1][4][\"lon\"])\n",
    "    # alt_4.append(timestamp[1][4][\"alt\"])\n",
    "\n",
    "# Cutoff some of the first values\n",
    "#t = t[80:] # Probably good enough here.\n",
    "\n",
    "# And the last values...\n",
    "#t = t[:2000] # Sanity!\n",
    "\n",
    "# Check what this is doing and whether or not we need it \n",
    "t -= t[0] # Start at time zero. \n",
    "dT = np.round((t[100] - t[0]) / 100, 2)\n",
    "print(x.shape)\n",
    "print(t.shape)\n",
    "nt = t.shape[0]"
   ]
  },
  {
   "cell_type": "code",
   "execution_count": null,
   "metadata": {},
   "outputs": [],
   "source": [
    "## 1. Identify Specification "
   ]
  },
  {
   "cell_type": "code",
   "execution_count": null,
   "metadata": {},
   "outputs": [],
   "source": [
    "# This needs to be updated obviously \n",
    "# Create an STL formula - start first with a known STL formula.\n",
    "square_dim = 1.41\n",
    "a_x = np.zeros((1,12)); a_x[0,6] = 1\n",
    "a_y = np.zeros((1,12)); a_y[0,7] = 1\n",
    "left = LinearPredicate(a_x, square_dim) # x - 1.23 >= 0, x >= 1.23\n",
    "right = LinearPredicate(-a_x, square_dim) # -x - 1.23 >= 0, x <= -1.23\n",
    "top = LinearPredicate(a_y, square_dim)\n",
    "bottom = LinearPredicate(-a_y, square_dim)\n",
    "\n",
    "square_spec = left | right | top | bottom\n",
    "pi = square_spec | square_spec.always(0, int(2/dT)-1).eventually(0, int(3 / dT))\n",
    "\n",
    "# Nonlinear Predicate Handling\n",
    "v_x, v_y, v_z, _, _, _, _, _, _, _, _, _ = (v_vars := sp.symbols('v_x v_y v_z w_x w_y w_z x y z theta phi psi'))\n",
    "g = sp.Matrix([2 - sp.sqrt(v_x ** 2 + v_y ** 2 + v_z ** 2)])\n",
    "g_nif = NaturalInclusionFunction(g, v_vars)\n",
    "psi = NonlinearPredicate(g_nif, 12) # lambda: x \n",
    "\n",
    "pi = pi & psi"
   ]
  }
 ],
 "metadata": {
  "kernelspec": {
   "display_name": "Python 3",
   "language": "python",
   "name": "python3"
  },
  "language_info": {
   "name": "python",
   "version": "3.10.12"
  }
 },
 "nbformat": 4,
 "nbformat_minor": 2
}
