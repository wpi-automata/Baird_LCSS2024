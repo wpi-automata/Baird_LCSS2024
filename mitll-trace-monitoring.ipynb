{
 "cells": [
  {
   "cell_type": "markdown",
   "metadata": {},
   "source": [
    "# I-STL Overview \n",
    "\n",
    "- Add a brief description here"
   ]
  },
  {
   "cell_type": "markdown",
   "metadata": {},
   "source": [
    "### 1. Set imports and read in data \n",
    "\n",
    "- `lat_n and lon_n` correspond to the latitude and longitude lists of agent n for plotting \n",
    "- `t` is the timestep array \n",
    "- `x_n` is the signal for agent n that we will use to compute robustness \n",
    "    - In this example, `x_n` is a numpy array of size (t, 2) that consists of t rows of [lat_n, lon_n] @ time t"
   ]
  },
  {
   "cell_type": "code",
   "execution_count": 55,
   "metadata": {},
   "outputs": [
    {
     "name": "stdout",
     "output_type": "stream",
     "text": [
      "(1800, 2)\n",
      "(1800, 2)\n",
      "(1800,)\n"
     ]
    }
   ],
   "source": [
    "import numpy as np\n",
    "import sympy as sp\n",
    "import time\n",
    "import interval\n",
    "from inclusion import NaturalInclusionFunction\n",
    "import matplotlib.animation as animation\n",
    "from scipy.io import loadmat\n",
    "from stlpy.STL import LinearPredicate, NonlinearPredicate\n",
    "from matplotlib import pyplot as plt\n",
    "from matplotlib import rc\n",
    "import pickle \n",
    "\n",
    "rc('text', usetex=True)\n",
    "\n",
    "# Part 1: Un-pickling and loading MITLL data \n",
    "with open('sim_data.pkl', 'rb') as f:\n",
    "    data = pickle.load(f)\n",
    "\n",
    "# Get all the GCS values for agent 1 \n",
    "\n",
    "lat_1 = []\n",
    "lon_1 = []\n",
    "alt_1 = []\n",
    "\n",
    "# And agent 4 \n",
    "lat_4 = []\n",
    "lon_4 = []\n",
    "alt_4 = []\n",
    "\n",
    "# Signal and time lists \n",
    "x1 = [] \n",
    "x4 = []\n",
    "t = []\n",
    "\n",
    "for timestamp in data:\n",
    "\n",
    "    # Original code sets up all agents in case we want to build on specs (i.e. don't crash, etc.)\n",
    "    t.append(timestamp[0]) \n",
    "    lat_1.append(timestamp[1][1][\"lat\"])\n",
    "    lon_1.append(timestamp[1][1][\"lon\"])\n",
    "    x1.append([timestamp[1][1][\"lat\"], timestamp[1][1][\"lon\"]])\n",
    "\n",
    "    lat_4.append(timestamp[1][4][\"lat\"])\n",
    "    lon_4.append(timestamp[1][4][\"lon\"])\n",
    "    x4.append([timestamp[1][4][\"lat\"], timestamp[1][4][\"lon\"]])\n",
    "\n",
    "# Our signal- just lat and lon position \n",
    "t = np.array(t)\n",
    "x1 = np.array(x1)\n",
    "x4 = np.array(x4)\n",
    "print(x1.shape)\n",
    "print(x4.shape)\n",
    "print(t.shape)\n",
    "nt = t.shape[0]\n",
    "\n"
   ]
  },
  {
   "cell_type": "markdown",
   "metadata": {},
   "source": [
    "### 2. Set up the specification\n",
    "\n",
    "- In this case we want the agent's lat and lon position to fall within the bounding box specified below within a certain timestep interval.\n",
    "- Bounding box set by identifying center point of [lat, lon] and applying offset of 0.0001 in each direction. \n",
    "\n",
    "Note: I will fix the axis limit issues of the plot below "
   ]
  },
  {
   "cell_type": "code",
   "execution_count": 56,
   "metadata": {},
   "outputs": [
    {
     "data": {
      "image/png": "[encoded data removed]",
      "text/plain": [
       "<Figure size 640x480 with 1 Axes>"
      ]
     },
     "metadata": {},
     "output_type": "display_data"
    }
   ],
   "source": [
    "offset = 0.0001\n",
    "lat_center = 42.49464\n",
    "lon_center = -71.6734\n",
    "\n",
    "# 2D Trajectory Plot\n",
    "plt.figure()\n",
    "plt.title(\"Agent 1 2D GCS Trajectory\")\n",
    "plt.xlabel(\"Latitude\")\n",
    "plt.ylabel(\"lonitude\")\n",
    "plt.axis('equal')\n",
    "\n",
    "square = plt.Rectangle((lat_center - offset, lon_center - offset), 2*offset, 2*offset, facecolor='none', ec=\"red\")\n",
    "plt.gca().add_patch(square)\n",
    "plt.scatter(lat_1, lon_1)\n",
    "plt.scatter(lat_4, lon_4)\n",
    "plt.show()\n"
   ]
  },
  {
   "cell_type": "markdown",
   "metadata": {},
   "source": [
    "Now set up the bounding box specification: \n",
    "\n",
    "1. Specify the agent position requirements: \n",
    "\n",
    "$c_{lat} - offset < p{lat} < c_{lat} + offset $ and $c_{lon} - offset < p{lon} < c_{lon} + offset $\n",
    "\n",
    "2. Create a linear predicate based on each requirement from the linear predicate equation: \n",
    "\n",
    "$a^Ty_t - b \\geqq 0$\n",
    "\n",
    "where $a$ is a multiplication matrix for signal $y$\n"
   ]
  },
  {
   "cell_type": "code",
   "execution_count": 57,
   "metadata": {},
   "outputs": [],
   "source": [
    "a_lat = np.array([1,0]) #Signal multiplier- will be useful once other variables are included in spec\n",
    "a_long = np.array([0,1])\n",
    "\n",
    "left = LinearPredicate(a_lat, lat_center - offset) \n",
    "right = LinearPredicate(-a_lat, -lat_center - offset) \n",
    "top = LinearPredicate(-a_long, -lon_center - offset)\n",
    "bottom = LinearPredicate(a_long, lon_center - offset)\n",
    "\n",
    "\n",
    "square_spec = left & right & top & bottom\n",
    "# Note: these times do not correspond to exact offset points as they need to be ints- originals 51.3, 58.2\n",
    "# pi = square_spec.always(513, 582) # times determined manually - I might change this in the future\n",
    "pi = square_spec.always(513, 582)"
   ]
  },
  {
   "cell_type": "markdown",
   "metadata": {},
   "source": [
    "## 3. Set up interval analysis \n",
    "- add the uncertainty\n",
    "- If time put equations and stuff "
   ]
  },
  {
   "cell_type": "code",
   "execution_count": 58,
   "metadata": {},
   "outputs": [],
   "source": [
    "# Create an uncertainty for each of the values.\n",
    "eps = np.array([0.0000005, 0.0000005]) #* 10 \n",
    "epsilon = interval.get_iarray(-1*eps, eps)\n",
    "\n",
    "x1_no_uncertainty = x1.copy()\n",
    "x1 = x1 + epsilon # Add uncertainty. For a \"no uncertainty\" version, comment this line.\n",
    "x4_no_uncertainty = x4.copy()\n",
    "x4 = x4 + epsilon\n"
   ]
  },
  {
   "cell_type": "markdown",
   "metadata": {},
   "source": [
    "## 4. Compute the robustness vector\n",
    "- In this case it will only be one value, but we can also set up the spec to evaluate relatively as well "
   ]
  },
  {
   "cell_type": "code",
   "execution_count": 59,
   "metadata": {},
   "outputs": [
    {
     "name": "stdout",
     "output_type": "stream",
     "text": [
      "--- Robustness computation took 6.474612474441528 seconds ---\n"
     ]
    }
   ],
   "source": [
    "rho1 = []\n",
    "rho4 = []\n",
    "robustness_start_time = time.time() # For reporting the computation time.\n",
    "\n",
    "for j in range(nt):\n",
    "    rho1.append(pi.robustness((x1.T), 0)) \n",
    "    rho4.append(pi.robustness((x4.T), 0)) \n",
    "\n",
    "print(\"--- Robustness computation took %s seconds ---\" % (time.time() - robustness_start_time))\n",
    "nt1 = len(rho1)\n",
    "rho1 = np.array(rho1)\n",
    "nt4 = len(rho4)\n",
    "rho4 = np.array(rho4)"
   ]
  },
  {
   "cell_type": "markdown",
   "metadata": {},
   "source": [
    "## 5. Plot "
   ]
  },
  {
   "cell_type": "code",
   "execution_count": 60,
   "metadata": {},
   "outputs": [
    {
     "data": {
      "image/png": "[encoded data removed]",
      "text/plain": [
       "<Figure size 640x480 with 1 Axes>"
      ]
     },
     "metadata": {},
     "output_type": "display_data"
    }
   ],
   "source": [
    "# For plotting, convert rho back to two values\n",
    "_rho1, rho1_ = interval.get_lu(rho1)\n",
    "_rho4, rho4_ = interval.get_lu(rho4)\n",
    "\n",
    "rho_fig, rho_axes = plt.subplots()\n",
    "rho_axes.ticklabel_format(useOffset=False, style='plain')\n",
    "rho_fig.subplots_adjust()\n",
    "rho_axes.plot(t,  _rho1, 'b')\n",
    "rho_axes.plot(t, rho1_, 'b')\n",
    "rho_axes.fill_between(t, _rho1, rho1_, facecolor='b', alpha=.25)\n",
    "rho_axes.plot(t,  _rho4, 'r')\n",
    "rho_axes.plot(t, rho4_, 'r')\n",
    "rho_axes.fill_between(t, _rho4, rho4_, facecolor='r', alpha=.25)\n",
    "rho_axes.set_ylabel('$[\\\\rho]$')\n",
    "rho_axes.set_xlabel('$t$ (s)')\n",
    "rho_axes.grid(True)"
   ]
  }
 ],
 "metadata": {
  "kernelspec": {
   "display_name": "Python 3",
   "language": "python",
   "name": "python3"
  },
  "language_info": {
   "codemirror_mode": {
    "name": "ipython",
    "version": 3
   },
   "file_extension": ".py",
   "mimetype": "text/x-python",
   "name": "python",
   "nbconvert_exporter": "python",
   "pygments_lexer": "ipython3",
   "version": "3.8.10"
  }
 },
 "nbformat": 4,
 "nbformat_minor": 2
}
